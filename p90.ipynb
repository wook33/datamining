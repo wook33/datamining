{
 "cells": [
  {
   "cell_type": "code",
   "execution_count": 2,
   "metadata": {},
   "outputs": [
    {
     "name": "stdout",
     "output_type": "stream",
     "text": [
      "100\n",
      "150\n"
     ]
    }
   ],
   "source": [
    "import pandas as pd\n",
    "series_ex1=pd.Series([100,500,150],index=['카카오','삼성전자','현대차'])\n",
    "print(series_ex1['카카오'])\n",
    "print(series_ex1['현대차'])"
   ]
  },
  {
   "cell_type": "code",
   "execution_count": 3,
   "metadata": {},
   "outputs": [
    {
     "name": "stdout",
     "output_type": "stream",
     "text": [
      "500\n"
     ]
    }
   ],
   "source": [
    "print(series_ex1[1])"
   ]
  },
  {
   "cell_type": "code",
   "execution_count": 4,
   "metadata": {},
   "outputs": [
    {
     "data": {
      "text/html": [
       "<div>\n",
       "<style scoped>\n",
       "    .dataframe tbody tr th:only-of-type {\n",
       "        vertical-align: middle;\n",
       "    }\n",
       "\n",
       "    .dataframe tbody tr th {\n",
       "        vertical-align: top;\n",
       "    }\n",
       "\n",
       "    .dataframe thead th {\n",
       "        text-align: right;\n",
       "    }\n",
       "</style>\n",
       "<table border=\"1\" class=\"dataframe\">\n",
       "  <thead>\n",
       "    <tr style=\"text-align: right;\">\n",
       "      <th></th>\n",
       "      <th>가격</th>\n",
       "      <th>PER</th>\n",
       "      <th>ROA</th>\n",
       "    </tr>\n",
       "  </thead>\n",
       "  <tbody>\n",
       "    <tr>\n",
       "      <th>카카오</th>\n",
       "      <td>100</td>\n",
       "      <td>0.5</td>\n",
       "      <td>1.01</td>\n",
       "    </tr>\n",
       "    <tr>\n",
       "      <th>삼성전자</th>\n",
       "      <td>500</td>\n",
       "      <td>1.2</td>\n",
       "      <td>3.10</td>\n",
       "    </tr>\n",
       "    <tr>\n",
       "      <th>현대차</th>\n",
       "      <td>150</td>\n",
       "      <td>0.2</td>\n",
       "      <td>0.97</td>\n",
       "    </tr>\n",
       "  </tbody>\n",
       "</table>\n",
       "</div>"
      ],
      "text/plain": [
       "       가격  PER   ROA\n",
       "카카오   100  0.5  1.01\n",
       "삼성전자  500  1.2  3.10\n",
       "현대차   150  0.2  0.97"
      ]
     },
     "execution_count": 4,
     "metadata": {},
     "output_type": "execute_result"
    }
   ],
   "source": [
    "pd.DataFrame({'가격':[100,500,150],'PER':[0.5,1.2,0.2],'ROA':[1.01,3.1,0.97]},index=['카카오','삼성전자','현대차'])"
   ]
  },
  {
   "cell_type": "code",
   "execution_count": 5,
   "metadata": {},
   "outputs": [
    {
     "data": {
      "text/plain": [
       "카카오     100\n",
       "삼성전자    500\n",
       "현대차     150\n",
       "Name: 가격, dtype: int64"
      ]
     },
     "execution_count": 5,
     "metadata": {},
     "output_type": "execute_result"
    }
   ],
   "source": [
    "df_ex1=pd.DataFrame({'가격':[100,500,150],'PER':[0.5,1.2,0.2],'ROA':[1.01,3.1,0.97]},index=['카카오','삼성전자','현대차'])\n",
    "df_ex1['가격']"
   ]
  },
  {
   "cell_type": "code",
   "execution_count": 6,
   "metadata": {},
   "outputs": [
    {
     "data": {
      "text/plain": [
       "500"
      ]
     },
     "execution_count": 6,
     "metadata": {},
     "output_type": "execute_result"
    }
   ],
   "source": [
    "df_ex1['가격']['삼성전자']"
   ]
  },
  {
   "cell_type": "code",
   "execution_count": 7,
   "metadata": {},
   "outputs": [
    {
     "data": {
      "text/plain": [
       "가격     100.00\n",
       "PER      0.50\n",
       "ROA      1.01\n",
       "Name: 카카오, dtype: float64"
      ]
     },
     "execution_count": 7,
     "metadata": {},
     "output_type": "execute_result"
    }
   ],
   "source": [
    "df_ex1.loc[\"카카오\"]"
   ]
  },
  {
   "cell_type": "code",
   "execution_count": 8,
   "metadata": {},
   "outputs": [
    {
     "data": {
      "text/html": [
       "<div>\n",
       "<style scoped>\n",
       "    .dataframe tbody tr th:only-of-type {\n",
       "        vertical-align: middle;\n",
       "    }\n",
       "\n",
       "    .dataframe tbody tr th {\n",
       "        vertical-align: top;\n",
       "    }\n",
       "\n",
       "    .dataframe thead th {\n",
       "        text-align: right;\n",
       "    }\n",
       "</style>\n",
       "<table border=\"1\" class=\"dataframe\">\n",
       "  <thead>\n",
       "    <tr style=\"text-align: right;\">\n",
       "      <th></th>\n",
       "      <th>회사명</th>\n",
       "      <th>PER</th>\n",
       "    </tr>\n",
       "  </thead>\n",
       "  <tbody>\n",
       "    <tr>\n",
       "      <th>0</th>\n",
       "      <td>3S</td>\n",
       "      <td>-11.87</td>\n",
       "    </tr>\n",
       "    <tr>\n",
       "      <th>1</th>\n",
       "      <td>AJ네트웍스</td>\n",
       "      <td>25.15</td>\n",
       "    </tr>\n",
       "    <tr>\n",
       "      <th>2</th>\n",
       "      <td>AJ렌터카</td>\n",
       "      <td>24.85</td>\n",
       "    </tr>\n",
       "    <tr>\n",
       "      <th>3</th>\n",
       "      <td>AK홀딩스</td>\n",
       "      <td>11.49</td>\n",
       "    </tr>\n",
       "    <tr>\n",
       "      <th>4</th>\n",
       "      <td>APS홀딩스</td>\n",
       "      <td>0.23</td>\n",
       "    </tr>\n",
       "    <tr>\n",
       "      <th>...</th>\n",
       "      <td>...</td>\n",
       "      <td>...</td>\n",
       "    </tr>\n",
       "    <tr>\n",
       "      <th>2000</th>\n",
       "      <td>흥국에프엔비</td>\n",
       "      <td>23.20</td>\n",
       "    </tr>\n",
       "    <tr>\n",
       "      <th>2001</th>\n",
       "      <td>흥국화재</td>\n",
       "      <td>5.93</td>\n",
       "    </tr>\n",
       "    <tr>\n",
       "      <th>2002</th>\n",
       "      <td>흥아해운</td>\n",
       "      <td>-4.87</td>\n",
       "    </tr>\n",
       "    <tr>\n",
       "      <th>2003</th>\n",
       "      <td>희림</td>\n",
       "      <td>20.66</td>\n",
       "    </tr>\n",
       "    <tr>\n",
       "      <th>2004</th>\n",
       "      <td>힘스</td>\n",
       "      <td>6.63</td>\n",
       "    </tr>\n",
       "  </tbody>\n",
       "</table>\n",
       "<p>2005 rows × 2 columns</p>\n",
       "</div>"
      ],
      "text/plain": [
       "         회사명    PER\n",
       "0         3S -11.87\n",
       "1     AJ네트웍스  25.15\n",
       "2      AJ렌터카  24.85\n",
       "3      AK홀딩스  11.49\n",
       "4     APS홀딩스   0.23\n",
       "...      ...    ...\n",
       "2000  흥국에프엔비  23.20\n",
       "2001    흥국화재   5.93\n",
       "2002    흥아해운  -4.87\n",
       "2003      희림  20.66\n",
       "2004      힘스   6.63\n",
       "\n",
       "[2005 rows x 2 columns]"
      ]
     },
     "execution_count": 8,
     "metadata": {},
     "output_type": "execute_result"
    }
   ],
   "source": [
    "file_path='C:\\\\Users\\\\lge\\\\Desktop\\\\파이썬연습\\\\주식 책 데이터\\\\마법공식 데이터.xlsx'\n",
    "pd.read_excel(file_path,sheet_name='PER')"
   ]
  },
  {
   "cell_type": "code",
   "execution_count": 9,
   "metadata": {},
   "outputs": [],
   "source": [
    "per_data=pd.read_excel(file_path,sheet_name='PER',index_col=0)"
   ]
  },
  {
   "cell_type": "code",
   "execution_count": 10,
   "metadata": {},
   "outputs": [],
   "source": [
    "filtered_per=per_data[per_data['PER']>0]"
   ]
  },
  {
   "cell_type": "code",
   "execution_count": 11,
   "metadata": {},
   "outputs": [],
   "source": [
    "sorted_per=filtered_per.sort_values(by='PER')"
   ]
  },
  {
   "cell_type": "code",
   "execution_count": 12,
   "metadata": {},
   "outputs": [
    {
     "data": {
      "text/plain": [
       "회사명\n",
       "APS홀딩스        1.0\n",
       "STX중공업        2.0\n",
       "제일파마홀딩스       3.0\n",
       "이녹스           4.0\n",
       "유비쿼스홀딩스       5.0\n",
       "            ...  \n",
       "신영스팩3호     1389.0\n",
       "SCI평가정보    1390.0\n",
       "제이에스티나     1391.0\n",
       "셀트리온제약     1392.0\n",
       "코미팜        1393.0\n",
       "Name: PER, Length: 1393, dtype: float64"
      ]
     },
     "execution_count": 12,
     "metadata": {},
     "output_type": "execute_result"
    }
   ],
   "source": [
    "sorted_per['PER'].rank()"
   ]
  },
  {
   "cell_type": "code",
   "execution_count": 13,
   "metadata": {},
   "outputs": [],
   "source": [
    "sorted_per['PER랭킹']=sorted_per['PER'].rank()"
   ]
  },
  {
   "cell_type": "code",
   "execution_count": 15,
   "metadata": {},
   "outputs": [
    {
     "data": {
      "text/html": [
       "<div>\n",
       "<style scoped>\n",
       "    .dataframe tbody tr th:only-of-type {\n",
       "        vertical-align: middle;\n",
       "    }\n",
       "\n",
       "    .dataframe tbody tr th {\n",
       "        vertical-align: top;\n",
       "    }\n",
       "\n",
       "    .dataframe thead th {\n",
       "        text-align: right;\n",
       "    }\n",
       "</style>\n",
       "<table border=\"1\" class=\"dataframe\">\n",
       "  <thead>\n",
       "    <tr style=\"text-align: right;\">\n",
       "      <th></th>\n",
       "      <th>PER</th>\n",
       "      <th>PER랭킹</th>\n",
       "    </tr>\n",
       "    <tr>\n",
       "      <th>회사명</th>\n",
       "      <th></th>\n",
       "      <th></th>\n",
       "    </tr>\n",
       "  </thead>\n",
       "  <tbody>\n",
       "    <tr>\n",
       "      <th>APS홀딩스</th>\n",
       "      <td>0.23</td>\n",
       "      <td>1.0</td>\n",
       "    </tr>\n",
       "    <tr>\n",
       "      <th>STX중공업</th>\n",
       "      <td>0.37</td>\n",
       "      <td>2.0</td>\n",
       "    </tr>\n",
       "    <tr>\n",
       "      <th>제일파마홀딩스</th>\n",
       "      <td>0.39</td>\n",
       "      <td>3.0</td>\n",
       "    </tr>\n",
       "    <tr>\n",
       "      <th>이녹스</th>\n",
       "      <td>0.75</td>\n",
       "      <td>4.0</td>\n",
       "    </tr>\n",
       "    <tr>\n",
       "      <th>유비쿼스홀딩스</th>\n",
       "      <td>1.04</td>\n",
       "      <td>5.0</td>\n",
       "    </tr>\n",
       "    <tr>\n",
       "      <th>...</th>\n",
       "      <td>...</td>\n",
       "      <td>...</td>\n",
       "    </tr>\n",
       "    <tr>\n",
       "      <th>신영스팩3호</th>\n",
       "      <td>3369.00</td>\n",
       "      <td>1389.0</td>\n",
       "    </tr>\n",
       "    <tr>\n",
       "      <th>SCI평가정보</th>\n",
       "      <td>3662.70</td>\n",
       "      <td>1390.0</td>\n",
       "    </tr>\n",
       "    <tr>\n",
       "      <th>제이에스티나</th>\n",
       "      <td>5455.44</td>\n",
       "      <td>1391.0</td>\n",
       "    </tr>\n",
       "    <tr>\n",
       "      <th>셀트리온제약</th>\n",
       "      <td>10318.45</td>\n",
       "      <td>1392.0</td>\n",
       "    </tr>\n",
       "    <tr>\n",
       "      <th>코미팜</th>\n",
       "      <td>23333.05</td>\n",
       "      <td>1393.0</td>\n",
       "    </tr>\n",
       "  </tbody>\n",
       "</table>\n",
       "<p>1393 rows × 2 columns</p>\n",
       "</div>"
      ],
      "text/plain": [
       "              PER   PER랭킹\n",
       "회사명                      \n",
       "APS홀딩스       0.23     1.0\n",
       "STX중공업       0.37     2.0\n",
       "제일파마홀딩스      0.39     3.0\n",
       "이녹스          0.75     4.0\n",
       "유비쿼스홀딩스      1.04     5.0\n",
       "...           ...     ...\n",
       "신영스팩3호    3369.00  1389.0\n",
       "SCI평가정보   3662.70  1390.0\n",
       "제이에스티나    5455.44  1391.0\n",
       "셀트리온제약   10318.45  1392.0\n",
       "코미팜      23333.05  1393.0\n",
       "\n",
       "[1393 rows x 2 columns]"
      ]
     },
     "execution_count": 15,
     "metadata": {},
     "output_type": "execute_result"
    }
   ],
   "source": [
    "sorted_per"
   ]
  },
  {
   "cell_type": "code",
   "execution_count": 16,
   "metadata": {},
   "outputs": [],
   "source": [
    "roa_data=pd.read_excel(file_path,sheet_name=\"ROA\",index_col=0)"
   ]
  },
  {
   "cell_type": "code",
   "execution_count": 17,
   "metadata": {},
   "outputs": [],
   "source": [
    "filtered_roa=roa_data.dropna()"
   ]
  },
  {
   "cell_type": "code",
   "execution_count": 18,
   "metadata": {},
   "outputs": [],
   "source": [
    "filtered_roa.columns=[\"ROA\"]"
   ]
  },
  {
   "cell_type": "code",
   "execution_count": 22,
   "metadata": {},
   "outputs": [],
   "source": [
    "sorted_roa=filtered_roa.sort_values(by=\"ROA\",ascending=False)\n",
    "sorted_roa['ROA랭킹']=sorted_roa.rank(ascending=False)"
   ]
  },
  {
   "cell_type": "code",
   "execution_count": 23,
   "metadata": {},
   "outputs": [],
   "source": [
    "total_df=pd.merge(sorted_per,sorted_roa,how='inner',left_index=True,right_index=True)"
   ]
  },
  {
   "cell_type": "code",
   "execution_count": 24,
   "metadata": {},
   "outputs": [
    {
     "data": {
      "text/html": [
       "<div>\n",
       "<style scoped>\n",
       "    .dataframe tbody tr th:only-of-type {\n",
       "        vertical-align: middle;\n",
       "    }\n",
       "\n",
       "    .dataframe tbody tr th {\n",
       "        vertical-align: top;\n",
       "    }\n",
       "\n",
       "    .dataframe thead th {\n",
       "        text-align: right;\n",
       "    }\n",
       "</style>\n",
       "<table border=\"1\" class=\"dataframe\">\n",
       "  <thead>\n",
       "    <tr style=\"text-align: right;\">\n",
       "      <th></th>\n",
       "      <th>PER</th>\n",
       "      <th>PER랭킹</th>\n",
       "      <th>ROA</th>\n",
       "      <th>ROA랭킹</th>\n",
       "      <th>종합 랭크</th>\n",
       "    </tr>\n",
       "    <tr>\n",
       "      <th>회사명</th>\n",
       "      <th></th>\n",
       "      <th></th>\n",
       "      <th></th>\n",
       "      <th></th>\n",
       "      <th></th>\n",
       "    </tr>\n",
       "  </thead>\n",
       "  <tbody>\n",
       "    <tr>\n",
       "      <th>서한</th>\n",
       "      <td>3.22</td>\n",
       "      <td>22.0</td>\n",
       "      <td>23.65</td>\n",
       "      <td>25.0</td>\n",
       "      <td>1.0</td>\n",
       "    </tr>\n",
       "    <tr>\n",
       "      <th>골프존</th>\n",
       "      <td>4.19</td>\n",
       "      <td>38.0</td>\n",
       "      <td>24.77</td>\n",
       "      <td>21.0</td>\n",
       "      <td>2.0</td>\n",
       "    </tr>\n",
       "    <tr>\n",
       "      <th>동원개발</th>\n",
       "      <td>4.41</td>\n",
       "      <td>42.0</td>\n",
       "      <td>23.62</td>\n",
       "      <td>26.0</td>\n",
       "      <td>3.0</td>\n",
       "    </tr>\n",
       "    <tr>\n",
       "      <th>오가닉티코스메틱</th>\n",
       "      <td>5.11</td>\n",
       "      <td>66.5</td>\n",
       "      <td>44.06</td>\n",
       "      <td>3.0</td>\n",
       "      <td>4.0</td>\n",
       "    </tr>\n",
       "    <tr>\n",
       "      <th>모베이스</th>\n",
       "      <td>4.49</td>\n",
       "      <td>45.0</td>\n",
       "      <td>20.03</td>\n",
       "      <td>52.0</td>\n",
       "      <td>5.0</td>\n",
       "    </tr>\n",
       "    <tr>\n",
       "      <th>...</th>\n",
       "      <td>...</td>\n",
       "      <td>...</td>\n",
       "      <td>...</td>\n",
       "      <td>...</td>\n",
       "      <td>...</td>\n",
       "    </tr>\n",
       "    <tr>\n",
       "      <th>SCI평가정보</th>\n",
       "      <td>3662.70</td>\n",
       "      <td>1390.0</td>\n",
       "      <td>-6.80</td>\n",
       "      <td>1734.0</td>\n",
       "      <td>1247.0</td>\n",
       "    </tr>\n",
       "    <tr>\n",
       "      <th>덕양산업</th>\n",
       "      <td>424.93</td>\n",
       "      <td>1358.0</td>\n",
       "      <td>-8.46</td>\n",
       "      <td>1773.0</td>\n",
       "      <td>1248.0</td>\n",
       "    </tr>\n",
       "    <tr>\n",
       "      <th>디비케이</th>\n",
       "      <td>119.68</td>\n",
       "      <td>1281.0</td>\n",
       "      <td>-14.23</td>\n",
       "      <td>1863.0</td>\n",
       "      <td>1249.0</td>\n",
       "    </tr>\n",
       "    <tr>\n",
       "      <th>이루온</th>\n",
       "      <td>197.50</td>\n",
       "      <td>1328.0</td>\n",
       "      <td>-13.28</td>\n",
       "      <td>1847.0</td>\n",
       "      <td>1250.0</td>\n",
       "    </tr>\n",
       "    <tr>\n",
       "      <th>감마누</th>\n",
       "      <td>395.36</td>\n",
       "      <td>1355.0</td>\n",
       "      <td>-22.41</td>\n",
       "      <td>1893.0</td>\n",
       "      <td>1251.0</td>\n",
       "    </tr>\n",
       "  </tbody>\n",
       "</table>\n",
       "<p>1251 rows × 5 columns</p>\n",
       "</div>"
      ],
      "text/plain": [
       "              PER   PER랭킹    ROA   ROA랭킹   종합 랭크\n",
       "회사명                                             \n",
       "서한           3.22    22.0  23.65    25.0     1.0\n",
       "골프존          4.19    38.0  24.77    21.0     2.0\n",
       "동원개발         4.41    42.0  23.62    26.0     3.0\n",
       "오가닉티코스메틱     5.11    66.5  44.06     3.0     4.0\n",
       "모베이스         4.49    45.0  20.03    52.0     5.0\n",
       "...           ...     ...    ...     ...     ...\n",
       "SCI평가정보   3662.70  1390.0  -6.80  1734.0  1247.0\n",
       "덕양산업       424.93  1358.0  -8.46  1773.0  1248.0\n",
       "디비케이       119.68  1281.0 -14.23  1863.0  1249.0\n",
       "이루온        197.50  1328.0 -13.28  1847.0  1250.0\n",
       "감마누        395.36  1355.0 -22.41  1893.0  1251.0\n",
       "\n",
       "[1251 rows x 5 columns]"
      ]
     },
     "execution_count": 24,
     "metadata": {},
     "output_type": "execute_result"
    }
   ],
   "source": [
    "total_df['종합 랭크']=(total_df['PER랭킹']+total_df['ROA랭킹']).rank()\n",
    "total_df.sort_values(by='종합 랭크')"
   ]
  },
  {
   "cell_type": "code",
   "execution_count": 25,
   "metadata": {},
   "outputs": [],
   "source": [
    "def magic_by_pd(path):\n",
    "    per_data=pd.read_excel(path,sheet_name='PER',index_col=0)\n",
    "    filtered_per=per_data[per_data['PER']>0]\n",
    "    sorted_per=filtered_per.sort_values(by='PER')\n",
    "    sorted_per['PER랭킹']=sorted_per['PER'].rank()\n",
    "    \n",
    "    \n",
    "    roa_data=pd.read_excel(path,sheet_name='ROA',index_col=0)\n",
    "    filtered_roa=roa-data.dropna()\n",
    "    filtered_roa.columns=['ROA']\n",
    "    sorted_roa=filtered_roa.sort_values(by='ROA',ascending=False)\n",
    "    sorted_roa['ROA랭킹']=sorted_roa.rank(ascending=False)\n",
    "    \n",
    "    total_df=pd.merge(sorted_per,sorted_roa,how='inner',left_index=True,right_index=True)\n",
    "    \n",
    "    total_df['종합 랭크']=(total_df['PER랭킹']+total_df['ROA랭킹']).rank()\n",
    "    return total_df.sort_values(by='종합 랭크')\n"
   ]
  },
  {
   "cell_type": "code",
   "execution_count": null,
   "metadata": {},
   "outputs": [],
   "source": []
  }
 ],
 "metadata": {
  "kernelspec": {
   "display_name": "Python 3",
   "language": "python",
   "name": "python3"
  },
  "language_info": {
   "codemirror_mode": {
    "name": "ipython",
    "version": 3
   },
   "file_extension": ".py",
   "mimetype": "text/x-python",
   "name": "python",
   "nbconvert_exporter": "python",
   "pygments_lexer": "ipython3",
   "version": "3.8.5"
  }
 },
 "nbformat": 4,
 "nbformat_minor": 4
}
